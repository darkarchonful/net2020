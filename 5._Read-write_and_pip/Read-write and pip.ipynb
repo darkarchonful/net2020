{
 "metadata": {
  "language_info": {
   "codemirror_mode": {
    "name": "ipython",
    "version": 3
   },
   "file_extension": ".py",
   "mimetype": "text/x-python",
   "name": "python",
   "nbconvert_exporter": "python",
   "pygments_lexer": "ipython3",
   "version": "3.7.6-final"
  },
  "orig_nbformat": 2,
  "kernelspec": {
   "name": "python_defaultSpec_1600596534657",
   "display_name": "Python 3.7.6 64-bit ('base': conda)"
  }
 },
 "nbformat": 4,
 "nbformat_minor": 2,
 "cells": [
  {
   "source": [
    "# Домашнее задание\n",
    "1. Переведите содержимое файла purchase_log.txt в словарь purchases вида:\n",
    "```python\n",
    "{'1840e0b9d4': 'Продукты', ...}\n",
    "```\n",
    "\n",
    "2. Для каждого user_id в файле visit_log.csv определите третий столбец с категорией покупки (если покупка была, сам файл visit_log.csv изменять не надо). Запишите в файл funnel.csv визиты из файла visit_log.csv, в которых были покупки с указанием категории.\n",
    "\n",
    "Учтите условия на данные:\n",
    "- содержимое purchase_log.txt помещается в оперативную память компьютера\n",
    "- содержимое visit_log.csv - нет; используйте только построчную обработку этого файла"
   ],
   "cell_type": "markdown",
   "metadata": {}
  },
  {
   "cell_type": "code",
   "execution_count": 88,
   "metadata": {
    "tags": []
   },
   "outputs": [],
   "source": [
    "import json\n",
    "with open('purchase_log.txt','r',encoding='utf-8') as _:\n",
    "    purchase_log = _.readlines()\n",
    "purchases = {}\n",
    "for line in purchase_log[1:]:\n",
    "    dict_ = json.loads(line)\n",
    "    purchases[dict_['user_id']] = dict_['category']\n",
    "\n",
    "# purchases"
   ]
  },
  {
   "cell_type": "code",
   "execution_count": 89,
   "metadata": {
    "tags": []
   },
   "outputs": [],
   "source": [
    "with open('visit_log.csv','r',encoding='utf-8') as r:\n",
    "    with open('funnel.csv','w') as w:\n",
    "        for x in r:\n",
    "            line = r.readline().strip().split(',')  \n",
    "            if line[0] in purchases:\n",
    "                res = str(line[0]+';'+purchases[line[0]]+'\\n')\n",
    "                w.write(res)\n",
    "            else: \n",
    "                res = str(line[0]+';'+'\\n')\n",
    "                w.write(res)\n",
    "                "
   ]
  },
  {
   "cell_type": "code",
   "execution_count": null,
   "metadata": {},
   "outputs": [],
   "source": []
  }
 ]
}