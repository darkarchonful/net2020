{
 "cells": [
  {
   "cell_type": "markdown",
   "metadata": {},
   "source": [
    "## Задание 1\n",
    "Для датафрейма log из материалов занятия создайте столбец source_type по следующим правилам:\n",
    "- если источник traffic_source равен yandex или google, то в source_type ставится organic\n",
    "- для источников paid и email из России - ставим ad\n",
    "- для источников paid и email не из России - ставим other\n",
    "- все остальные варианты берем из traffic_source без изменений\n"
   ]
  },
  {
   "cell_type": "code",
   "execution_count": 1,
   "metadata": {},
   "outputs": [],
   "source": [
    "import pandas as pd\n",
    "log = pd.read_csv('visit_log.csv', sep=';')"
   ]
  },
  {
   "cell_type": "code",
   "execution_count": 2,
   "metadata": {
    "tags": []
   },
   "outputs": [
    {
     "output_type": "execute_result",
     "data": {
      "text/plain": "        timestamp    visit_id                                 url   region  \\\n0      1549980692  e3b0c44298  https://host.ru/3c19b4ef7371864fa3   Russia   \n1      1549980704  6e340b9cff  https://host.ru/c8d9213a31839f9a3a   Russia   \n2      1549980715  96a296d224  https://host.ru/b8b58337d272ee7b15   Russia   \n3      1549980725  709e80c884  https://host.ru/b8b58337d272ee7b15   Russia   \n4      1549980736  df3f619804  https://host.ru/b8b58337d272ee7b15   Russia   \n...           ...         ...                                 ...      ...   \n18933  1550094288  57e5ba8560  https://host.ru/c2382eb3d6afc8d0f3  Belarus   \n18934  1550094296  6f9389ec1b  https://host.ru/f1eb4601740d627ab0   Russia   \n18935  1550094308  e8cf2eb8e6  https://host.ru/a5dda93e70318570c0  Belarus   \n18936  1550094314  79530b9a67  https://host.ru/6fda01ec57f23abc9e   Russia   \n18937  1550094323  b3b634f824  https://host.ru/39fa884393666d45fc   Russia   \n\n          user_id traffic_source     type  \n0      b1613cc09f         yandex  organic  \n1      4c3ec14bee         direct   direct  \n2      a8c40697fb         yandex  organic  \n3      521ac1d6a0         yandex  organic  \n4      d7323c571c         yandex  organic  \n...           ...            ...      ...  \n18933  98b19810d0           paid   others  \n18934  32ebb20c13           paid       ad  \n18935  b85baa8c73         yandex  organic  \n18936  e154b06121           paid       ad  \n18937  7d27a58fb8          email       ad  \n\n[18938 rows x 7 columns]",
      "text/html": "<div>\n<style scoped>\n    .dataframe tbody tr th:only-of-type {\n        vertical-align: middle;\n    }\n\n    .dataframe tbody tr th {\n        vertical-align: top;\n    }\n\n    .dataframe thead th {\n        text-align: right;\n    }\n</style>\n<table border=\"1\" class=\"dataframe\">\n  <thead>\n    <tr style=\"text-align: right;\">\n      <th></th>\n      <th>timestamp</th>\n      <th>visit_id</th>\n      <th>url</th>\n      <th>region</th>\n      <th>user_id</th>\n      <th>traffic_source</th>\n      <th>type</th>\n    </tr>\n  </thead>\n  <tbody>\n    <tr>\n      <th>0</th>\n      <td>1549980692</td>\n      <td>e3b0c44298</td>\n      <td>https://host.ru/3c19b4ef7371864fa3</td>\n      <td>Russia</td>\n      <td>b1613cc09f</td>\n      <td>yandex</td>\n      <td>organic</td>\n    </tr>\n    <tr>\n      <th>1</th>\n      <td>1549980704</td>\n      <td>6e340b9cff</td>\n      <td>https://host.ru/c8d9213a31839f9a3a</td>\n      <td>Russia</td>\n      <td>4c3ec14bee</td>\n      <td>direct</td>\n      <td>direct</td>\n    </tr>\n    <tr>\n      <th>2</th>\n      <td>1549980715</td>\n      <td>96a296d224</td>\n      <td>https://host.ru/b8b58337d272ee7b15</td>\n      <td>Russia</td>\n      <td>a8c40697fb</td>\n      <td>yandex</td>\n      <td>organic</td>\n    </tr>\n    <tr>\n      <th>3</th>\n      <td>1549980725</td>\n      <td>709e80c884</td>\n      <td>https://host.ru/b8b58337d272ee7b15</td>\n      <td>Russia</td>\n      <td>521ac1d6a0</td>\n      <td>yandex</td>\n      <td>organic</td>\n    </tr>\n    <tr>\n      <th>4</th>\n      <td>1549980736</td>\n      <td>df3f619804</td>\n      <td>https://host.ru/b8b58337d272ee7b15</td>\n      <td>Russia</td>\n      <td>d7323c571c</td>\n      <td>yandex</td>\n      <td>organic</td>\n    </tr>\n    <tr>\n      <th>...</th>\n      <td>...</td>\n      <td>...</td>\n      <td>...</td>\n      <td>...</td>\n      <td>...</td>\n      <td>...</td>\n      <td>...</td>\n    </tr>\n    <tr>\n      <th>18933</th>\n      <td>1550094288</td>\n      <td>57e5ba8560</td>\n      <td>https://host.ru/c2382eb3d6afc8d0f3</td>\n      <td>Belarus</td>\n      <td>98b19810d0</td>\n      <td>paid</td>\n      <td>others</td>\n    </tr>\n    <tr>\n      <th>18934</th>\n      <td>1550094296</td>\n      <td>6f9389ec1b</td>\n      <td>https://host.ru/f1eb4601740d627ab0</td>\n      <td>Russia</td>\n      <td>32ebb20c13</td>\n      <td>paid</td>\n      <td>ad</td>\n    </tr>\n    <tr>\n      <th>18935</th>\n      <td>1550094308</td>\n      <td>e8cf2eb8e6</td>\n      <td>https://host.ru/a5dda93e70318570c0</td>\n      <td>Belarus</td>\n      <td>b85baa8c73</td>\n      <td>yandex</td>\n      <td>organic</td>\n    </tr>\n    <tr>\n      <th>18936</th>\n      <td>1550094314</td>\n      <td>79530b9a67</td>\n      <td>https://host.ru/6fda01ec57f23abc9e</td>\n      <td>Russia</td>\n      <td>e154b06121</td>\n      <td>paid</td>\n      <td>ad</td>\n    </tr>\n    <tr>\n      <th>18937</th>\n      <td>1550094323</td>\n      <td>b3b634f824</td>\n      <td>https://host.ru/39fa884393666d45fc</td>\n      <td>Russia</td>\n      <td>7d27a58fb8</td>\n      <td>email</td>\n      <td>ad</td>\n    </tr>\n  </tbody>\n</table>\n<p>18938 rows × 7 columns</p>\n</div>"
     },
     "metadata": {},
     "execution_count": 2
    }
   ],
   "source": [
    "dim = {\n",
    "    'organic'   :['yandex', 'google'],\n",
    "    'ad'        :['paid', 'email']    \n",
    "    }\n",
    "\n",
    "for k in dim:\n",
    "    log.loc[log['traffic_source'].isin(dim[k]),'type'] = k\n",
    "log.loc[(log['type']=='ad')&(log['region']!='Russia'),'type'] = 'others'\n",
    "log.loc[pd.isnull(log['type']),'type'] = log['traffic_source']\n",
    "\n",
    "log\n"
   ]
  },
  {
   "cell_type": "markdown",
   "metadata": {},
   "source": [
    "## Задание 2"
   ]
  },
  {
   "cell_type": "code",
   "execution_count": 6,
   "metadata": {},
   "outputs": [
    {
     "output_type": "execute_result",
     "data": {
      "text/plain": "                                                  url\n3   /politics/36188461-s-marta-zhizn-rossiyan-susc...\n4   /world/36007585-tramp-pridumal-kak-reshit-ukra...\n5   /science/36157853-nasa-sobiraet-ekstrennuyu-pr...\n6   /video/36001498-poyavilis-pervye-podrobnosti-g...\n7   /world/36007585-tramp-pridumal-kak-reshit-ukra...\n..                                                ...\n88  /cis/35984145-kreml-prokommentiroval-soobschen...\n89  /video/36071019-olimpiyskie-obekty-rio-prevrat...\n90  /science/36151301-nazvano-posledstvie-zloupotr...\n91  /incidents/36027330-vospitatelnitsu-zatravili-...\n92  /world/36103095-dominikanskih-zhurnalistov-ubi...\n\n[84 rows x 1 columns]",
      "text/html": "<div>\n<style scoped>\n    .dataframe tbody tr th:only-of-type {\n        vertical-align: middle;\n    }\n\n    .dataframe tbody tr th {\n        vertical-align: top;\n    }\n\n    .dataframe thead th {\n        text-align: right;\n    }\n</style>\n<table border=\"1\" class=\"dataframe\">\n  <thead>\n    <tr style=\"text-align: right;\">\n      <th></th>\n      <th>url</th>\n    </tr>\n  </thead>\n  <tbody>\n    <tr>\n      <th>3</th>\n      <td>/politics/36188461-s-marta-zhizn-rossiyan-susc...</td>\n    </tr>\n    <tr>\n      <th>4</th>\n      <td>/world/36007585-tramp-pridumal-kak-reshit-ukra...</td>\n    </tr>\n    <tr>\n      <th>5</th>\n      <td>/science/36157853-nasa-sobiraet-ekstrennuyu-pr...</td>\n    </tr>\n    <tr>\n      <th>6</th>\n      <td>/video/36001498-poyavilis-pervye-podrobnosti-g...</td>\n    </tr>\n    <tr>\n      <th>7</th>\n      <td>/world/36007585-tramp-pridumal-kak-reshit-ukra...</td>\n    </tr>\n    <tr>\n      <th>...</th>\n      <td>...</td>\n    </tr>\n    <tr>\n      <th>88</th>\n      <td>/cis/35984145-kreml-prokommentiroval-soobschen...</td>\n    </tr>\n    <tr>\n      <th>89</th>\n      <td>/video/36071019-olimpiyskie-obekty-rio-prevrat...</td>\n    </tr>\n    <tr>\n      <th>90</th>\n      <td>/science/36151301-nazvano-posledstvie-zloupotr...</td>\n    </tr>\n    <tr>\n      <th>91</th>\n      <td>/incidents/36027330-vospitatelnitsu-zatravili-...</td>\n    </tr>\n    <tr>\n      <th>92</th>\n      <td>/world/36103095-dominikanskih-zhurnalistov-ubi...</td>\n    </tr>\n  </tbody>\n</table>\n<p>84 rows × 1 columns</p>\n</div>"
     },
     "metadata": {},
     "execution_count": 6
    }
   ],
   "source": [
    "url = pd.read_csv('URLs.txt')\n",
    "url[url['url'].str.contains(r'/\\d{8}-')]"
   ]
  },
  {
   "cell_type": "markdown",
   "metadata": {},
   "source": [
    "## Задание 3\n",
    "Не смог поставить pymystem "
   ]
  }
 ],
 "metadata": {
  "kernelspec": {
   "display_name": "Python 3",
   "language": "python",
   "name": "python3"
  },
  "language_info": {
   "codemirror_mode": {
    "name": "ipython",
    "version": 3
   },
   "file_extension": ".py",
   "mimetype": "text/x-python",
   "name": "python",
   "nbconvert_exporter": "python",
   "pygments_lexer": "ipython3",
   "version": "3.7.6-final"
  }
 },
 "nbformat": 4,
 "nbformat_minor": 2
}