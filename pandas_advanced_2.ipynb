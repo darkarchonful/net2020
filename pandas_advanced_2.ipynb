{
 "metadata": {
  "language_info": {
   "codemirror_mode": {
    "name": "ipython",
    "version": 3
   },
   "file_extension": ".py",
   "mimetype": "text/x-python",
   "name": "python",
   "nbconvert_exporter": "python",
   "pygments_lexer": "ipython3",
   "version": "3.7.6-final"
  },
  "orig_nbformat": 2,
  "kernelspec": {
   "name": "python_defaultSpec_1599316696602",
   "display_name": "Python 3.7.6 64-bit ('base': conda)"
  }
 },
 "nbformat": 4,
 "nbformat_minor": 2,
 "cells": [
  {
   "cell_type": "markdown",
   "metadata": {},
   "source": [
    "## Задание 1"
   ]
  },
  {
   "cell_type": "code",
   "execution_count": 6,
   "metadata": {},
   "outputs": [],
   "source": [
    "import pandas as pd\n",
    "rate = pd.read_csv('C:\\\\netology\\\\net2020\\\\pandas_advanced_2\\\\Python_13_join\\\\ml-latest-small\\\\ratings.csv') \n"
   ]
  },
  {
   "cell_type": "code",
   "execution_count": 202,
   "metadata": {},
   "outputs": [
    {
     "output_type": "execute_result",
     "data": {
      "text/plain": "          life_time\n          life_time\nuserId             \n380     515789661.0\n547     501810535.0\n427     476569256.0\n15      471393496.0\n624     457492507.0\n...             ...\n110          1148.0\n217           981.0\n316           916.0\n609           848.0\n536           206.0\n\n[258 rows x 1 columns]",
      "text/html": "<div>\n<style scoped>\n    .dataframe tbody tr th:only-of-type {\n        vertical-align: middle;\n    }\n\n    .dataframe tbody tr th {\n        vertical-align: top;\n    }\n\n    .dataframe thead tr th {\n        text-align: left;\n    }\n\n    .dataframe thead tr:last-of-type th {\n        text-align: right;\n    }\n</style>\n<table border=\"1\" class=\"dataframe\">\n  <thead>\n    <tr>\n      <th></th>\n      <th>life_time</th>\n    </tr>\n    <tr>\n      <th></th>\n      <th>life_time</th>\n    </tr>\n    <tr>\n      <th>userId</th>\n      <th></th>\n    </tr>\n  </thead>\n  <tbody>\n    <tr>\n      <th>380</th>\n      <td>515789661.0</td>\n    </tr>\n    <tr>\n      <th>547</th>\n      <td>501810535.0</td>\n    </tr>\n    <tr>\n      <th>427</th>\n      <td>476569256.0</td>\n    </tr>\n    <tr>\n      <th>15</th>\n      <td>471393496.0</td>\n    </tr>\n    <tr>\n      <th>624</th>\n      <td>457492507.0</td>\n    </tr>\n    <tr>\n      <th>...</th>\n      <td>...</td>\n    </tr>\n    <tr>\n      <th>110</th>\n      <td>1148.0</td>\n    </tr>\n    <tr>\n      <th>217</th>\n      <td>981.0</td>\n    </tr>\n    <tr>\n      <th>316</th>\n      <td>916.0</td>\n    </tr>\n    <tr>\n      <th>609</th>\n      <td>848.0</td>\n    </tr>\n    <tr>\n      <th>536</th>\n      <td>206.0</td>\n    </tr>\n  </tbody>\n</table>\n<p>258 rows × 1 columns</p>\n</div>"
     },
     "metadata": {},
     "execution_count": 202
    }
   ],
   "source": [
    "rategrouped = (\n",
    "        rate.groupby('userId')\n",
    "        .agg(('count','max','min'))\n",
    "        .rename(columns={'movieId': 'ratings_count'})\n",
    ")\n",
    "\n",
    "rategrouped.loc[rategrouped[('ratings_count','count')]>100,('life_time','life_time')] = rategrouped[('timestamp','max')] - rategrouped[('timestamp','min')]\n",
    "\n",
    "rategrouped = (\n",
    "    rategrouped.loc[~pd.isnull(rategrouped[('life_time','life_time')]),:]\n",
    "    [[('life_time','life_time')]]\n",
    ")\n",
    "\n",
    "rategrouped.sort_values(('life_time','life_time'),ascending=False)\n"
   ]
  },
  {
   "cell_type": "markdown",
   "metadata": {},
   "source": [
    "## Задание 2"
   ]
  },
  {
   "cell_type": "code",
   "execution_count": 196,
   "metadata": {},
   "outputs": [],
   "source": [
    "rzd = pd.DataFrame(\n",
    "    {\n",
    "        'client_id': [111, 112, 113, 114, 115],\n",
    "        'rzd_revenue': [1093, 2810, 10283, 5774, 981]\n",
    "    }\n",
    ")\n",
    "auto = pd.DataFrame(\n",
    "    {\n",
    "        'client_id': [113, 114, 115, 116, 117],\n",
    "        'auto_revenue': [57483, 83, 912, 4834, 98]\n",
    "    }\n",
    ")\n",
    "air = pd.DataFrame(\n",
    "    {\n",
    "        'client_id': [115, 116, 117, 118],\n",
    "        'air_revenue': [81, 4, 13, 173]\n",
    "    }\n",
    ")\n",
    "client_base = pd.DataFrame(\n",
    "    {\n",
    "        'client_id': [111, 112, 113, 114, 115, 116, 117, 118],\n",
    "        'address': ['Комсомольская 4', 'Энтузиастов 8а', 'Левобережная 1а', 'Мира 14', 'ЗЖБИиДК 1', \n",
    "                    'Строителей 18', 'Панфиловская 33', 'Мастеркова 4']\n",
    "    }\n",
    ")"
   ]
  },
  {
   "cell_type": "code",
   "execution_count": 201,
   "metadata": {
    "tags": []
   },
   "outputs": [
    {
     "output_type": "execute_result",
     "data": {
      "text/plain": "   client_id  air_revenue  auto_revenue  rzd_revenue          address\n0        115         81.0         912.0        981.0        ЗЖБИиДК 1\n1        116          4.0        4834.0          NaN    Строителей 18\n2        117         13.0          98.0          NaN  Панфиловская 33\n3        118        173.0           NaN          NaN     Мастеркова 4\n4        113          NaN       57483.0      10283.0  Левобережная 1а\n5        114          NaN          83.0       5774.0          Мира 14\n6        111          NaN           NaN       1093.0  Комсомольская 4\n7        112          NaN           NaN       2810.0   Энтузиастов 8а",
      "text/html": "<div>\n<style scoped>\n    .dataframe tbody tr th:only-of-type {\n        vertical-align: middle;\n    }\n\n    .dataframe tbody tr th {\n        vertical-align: top;\n    }\n\n    .dataframe thead th {\n        text-align: right;\n    }\n</style>\n<table border=\"1\" class=\"dataframe\">\n  <thead>\n    <tr style=\"text-align: right;\">\n      <th></th>\n      <th>client_id</th>\n      <th>air_revenue</th>\n      <th>auto_revenue</th>\n      <th>rzd_revenue</th>\n      <th>address</th>\n    </tr>\n  </thead>\n  <tbody>\n    <tr>\n      <th>0</th>\n      <td>115</td>\n      <td>81.0</td>\n      <td>912.0</td>\n      <td>981.0</td>\n      <td>ЗЖБИиДК 1</td>\n    </tr>\n    <tr>\n      <th>1</th>\n      <td>116</td>\n      <td>4.0</td>\n      <td>4834.0</td>\n      <td>NaN</td>\n      <td>Строителей 18</td>\n    </tr>\n    <tr>\n      <th>2</th>\n      <td>117</td>\n      <td>13.0</td>\n      <td>98.0</td>\n      <td>NaN</td>\n      <td>Панфиловская 33</td>\n    </tr>\n    <tr>\n      <th>3</th>\n      <td>118</td>\n      <td>173.0</td>\n      <td>NaN</td>\n      <td>NaN</td>\n      <td>Мастеркова 4</td>\n    </tr>\n    <tr>\n      <th>4</th>\n      <td>113</td>\n      <td>NaN</td>\n      <td>57483.0</td>\n      <td>10283.0</td>\n      <td>Левобережная 1а</td>\n    </tr>\n    <tr>\n      <th>5</th>\n      <td>114</td>\n      <td>NaN</td>\n      <td>83.0</td>\n      <td>5774.0</td>\n      <td>Мира 14</td>\n    </tr>\n    <tr>\n      <th>6</th>\n      <td>111</td>\n      <td>NaN</td>\n      <td>NaN</td>\n      <td>1093.0</td>\n      <td>Комсомольская 4</td>\n    </tr>\n    <tr>\n      <th>7</th>\n      <td>112</td>\n      <td>NaN</td>\n      <td>NaN</td>\n      <td>2810.0</td>\n      <td>Энтузиастов 8а</td>\n    </tr>\n  </tbody>\n</table>\n</div>"
     },
     "metadata": {},
     "execution_count": 201
    }
   ],
   "source": [
    "t1 = air.merge(auto,on='client_id',how='outer').merge(rzd,on='client_id',how='outer')\n",
    "t2 = t1.merge(client_base,on='client_id',how='left')\n",
    "t1\n",
    "t2"
   ]
  },
  {
   "cell_type": "markdown",
   "metadata": {},
   "source": [
    "## Задание 3"
   ]
  },
  {
   "cell_type": "code",
   "execution_count": null,
   "metadata": {},
   "outputs": [],
   "source": [
    "# ¯\\_(ツ)_/¯"
   ]
  }
 ]
}