{
 "cells": [
  {
   "cell_type": "markdown",
   "metadata": {},
   "source": [
    "**Задание 1**. Даны 2 строки: *long_phrase* и *short_phrase*. \n",
    "Напишите код, который проверяет действительно ли длинная фраза *long_phrase* длиннее короткой *short_phrase*. И выводит *True* или *False* в зависимости от результата сравнения."
   ]
  },
  {
   "cell_type": "code",
   "execution_count": 62,
   "metadata": {},
   "outputs": [],
   "source": [
    "long_phrase = 'Насколько проще было бы писать программы, если бы не заказчики'\n",
    "short_phrase = '640Кб должно хватить для любых задач. Билл Гейтс (по легенде)'"
   ]
  },
  {
   "cell_type": "code",
   "execution_count": 6,
   "metadata": {},
   "outputs": [
    {
     "name": "stdout",
     "output_type": "stream",
     "text": [
      "True\n"
     ]
    }
   ],
   "source": [
    "print(len(long_phrase)>len(short_phrase))"
   ]
  },
  {
   "cell_type": "markdown",
   "metadata": {},
   "source": [
    "**Задание 2**. Дано значение объема файла в байтах (*в мегабайте 2^20 байт*). Напишите перевод этого значения в мегабайты в формате: \"*Объем файла равен 213.68Mb*\"."
   ]
  },
  {
   "cell_type": "code",
   "execution_count": 24,
   "metadata": {},
   "outputs": [
    {
     "name": "stdout",
     "output_type": "stream",
     "text": [
      "Объем файла равен 700.0 Mb\n"
     ]
    }
   ],
   "source": [
    "file_size = 700*(2**20)            \n",
    "print('Объем файла равен ' + str(file_size/(2**20)) + ' Mb')"
   ]
  },
  {
   "cell_type": "markdown",
   "metadata": {},
   "source": [
    "**Задание 3**. Разработать приложение для определения знака зодиака по дате рождения. Пример:\n",
    "\n",
    "Введите месяц: март\n",
    "\n",
    "Введите число: 6\n",
    "\n",
    "Вывод:\n",
    "Рыбы"
   ]
  },
  {
   "cell_type": "code",
   "execution_count": 57,
   "metadata": {},
   "outputs": [
    {
     "name": "stdout",
     "output_type": "stream",
     "text": [
      "Введите месяц: 1\n",
      "Введите число: 33\n",
      "Неверная дата\n"
     ]
    }
   ],
   "source": [
    "# import datetime\n",
    "month = int(input('Введите месяц: '))\n",
    "day_num = int(input('Введите число: '))\n",
    "if (month == 3 and 31 >= day_num >= 21) or (month == 4 and 1 <= day_num <= 19):\n",
    "    print('Овен')\n",
    "elif (month == 4 and 31 >= day_num >= 20) or (month == 5 and 1 <= day_num <= 20): # Телец\t20.04.2020\t20.05.2020\n",
    "      print('Телец')\n",
    "elif (month == 5 and 31 >= day_num >= 21) or (month == 6 and 1 <= day_num <= 20):# Близнецы\t21.05.2020\t20.06.2020\n",
    "      print('Близнецы')\n",
    "elif (month == 6 and 31 >= day_num >= 21) or (month == 7 and 1 <= day_num <= 22):# Рак\t21.06.2020\t22.07.2020\n",
    "      print('Рак')\n",
    "elif (month == 7 and 31 >= day_num >= 23) or (month == 8 and 1 <= day_num <= 22):# Лев\t23.07.2020\t22.08.2020\n",
    "      print('Лев')\n",
    "elif (month == 8 and 31 >= day_num >= 23) or (month == 9 and 1 <= day_num <= 22):# Дева\t23.08.2020\t22.09.2020\n",
    "      print('Дева')\n",
    "elif (month == 9 and 31 >= day_num >= 23) or (month == 10 and 1 <= day_num <= 22):# Весы\t23.09.2020\t22.10.2020\n",
    "      print('Весы')\n",
    "elif (month == 10 and 31 >= day_num >= 23) or (month == 11 and 1 <= day_num <= 21):# Скорпион\t23.10.2020\t21.11.2020\n",
    "      print('Скорпион')\n",
    "elif (month == 11 and 31 >= day_num >= 22) or (month == 12 and 1 <= day_num <= 21):# Стрелец\t22.11.2020\t21.12.2020\n",
    "      print('Стрелец')\n",
    "elif (month == 12 and 31 >= day_num >= 22) or (month == 1 and 1 <= day_num <= 19):# Козерог\t22.12.2020\t19.01.2020\n",
    "      print('Козерог')\n",
    "elif (month == 1 and 31 >= day_num >= 20) or (month == 2 and 1 <= day_num <= 18):# Водолей\t20.01.2020\t18.02.2020\n",
    "      print('Водолей')\n",
    "elif (month == 2 and 31 >= day_num >= 19) or (month == 3 and 1 <= day_num <= 20):# Рыбы\t19.02.2020\t20.03.2020\n",
    "    print('Рыбы')\n",
    "else:\n",
    "    print('Неверная дата')\n",
    "\n"
   ]
  },
  {
   "cell_type": "markdown",
   "metadata": {},
   "source": [
    "**Задание 4**. Нужно разработать приложение для финансового планирования.\n",
    "Приложение учитывает сколько уходит на ипотеку, \"на жизнь\" и сколько нужно отложить на пенсию.\n",
    "Пользователь вводит:\n",
    "- заработанную плату в месяц.\n",
    "- сколько процентов от ЗП уходит на ипотеку.\n",
    "- сколько процентов от ЗП уходит \"на жизнь\".\n",
    "- сколько раз приходит премия в год.\n",
    "\n",
    "Остальная часть заработанной платы откладывается на пенсию.\n",
    "\n",
    "Также пользователю приходит премия в размере зарплаты, от которой половина уходит на отпуск, а вторая половина откладывается.\n",
    "\n",
    "Программа должна учитывать сколько премий было в год.\n",
    "\n",
    "Нужно вывести сколько денег тратит пользователь на ипотеку и сколько он накопит за год.\n",
    "\n",
    "Пример:\n",
    "\n",
    "Введите заработанную плату в месяц: 100000\n",
    "\n",
    "Введите сколько процентов уходит на ипотеку: 30\n",
    "\n",
    "Введите сколько процентов уходит на жизнь: 50\n",
    "\n",
    "Введите количество премий за год: 2\n",
    "\n",
    "Вывод:\n",
    "На ипотеку было потрачено: 360000 рублей\n",
    "Было накоплено: 340000 рублей"
   ]
  },
  {
   "cell_type": "code",
   "execution_count": 87,
   "metadata": {},
   "outputs": [
    {
     "name": "stdout",
     "output_type": "stream",
     "text": [
      "Введите заработанную плату в месяц:100000\n",
      "Введите сколько процентов уходит на ипотеку:30\n",
      "Введите сколько процентов уходит на жизнь:50\n",
      "Введите количество премий за год:2\n",
      "Вывод: На ипотеку было потрачено: 360000.0 рублей Было накоплено: 340000.0 рублей\n"
     ]
    }
   ],
   "source": [
    "salary = int(input('Введите заработанную плату в месяц:'))\n",
    "perc_credit_cost = int(input('Введите сколько процентов уходит на ипотеку:'))\n",
    "perc_life_cost = int(input('Введите сколько процентов уходит на жизнь:'))\n",
    "bonus_number = int(input('Введите количество премий за год:'))\n",
    "\n",
    "year_salary = salary * 12\n",
    "year_bonus = salary * bonus_number\n",
    "year_credit_cost = year_salary * (perc_credit_cost/100)\n",
    "year_life_cost = year_salary * (perc_life_cost/100)\n",
    "year_margin = year_salary + year_bonus - year_bonus/2 - year_credit_cost - year_life_cost\n",
    "print('Вывод: На ипотеку было потрачено: ' + str(year_credit_cost) + ' рублей Было накоплено: ' + str(year_margin) + ' рублей')"
   ]
  }
 ],
 "metadata": {
  "kernelspec": {
   "display_name": "Python 3",
   "language": "python",
   "name": "python3"
  },
  "language_info": {
   "codemirror_mode": {
    "name": "ipython",
    "version": 3
   },
   "file_extension": ".py",
   "mimetype": "text/x-python",
   "name": "python",
   "nbconvert_exporter": "python",
   "pygments_lexer": "ipython3",
   "version": "3.7.6"
  }
 },
 "nbformat": 4,
 "nbformat_minor": 2
}
