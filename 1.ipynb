{
 "cells": [
  {
   "cell_type": "code",
   "execution_count": 1,
   "metadata": {
    "slideshow": {
     "slide_type": "slide"
    }
   },
   "outputs": [],
   "source": [
    "import pandas as pd\n",
    "r = pd.read_csv('C:\\\\netology\\\\net2020\\\\ml-20m\\\\ratings.csv')\n",
    "m = pd.read_csv('C:\\\\netology\\\\net2020\\\\ml-20m\\\\movies.csv')"
   ]
  },
  {
   "cell_type": "code",
   "execution_count": 3,
   "metadata": {
    "slideshow": {
     "slide_type": "subslide"
    }
   },
   "outputs": [
    {
     "output_type": "execute_result",
     "data": {
      "text/plain": "   movieId  userId  rating  timestamp                             title  \\\n0      318   31896   31896      31896  Shawshank Redemption, The (1994)   \n\n        genres  \n0  Crime|Drama  ",
      "text/html": "<div>\n<style scoped>\n    .dataframe tbody tr th:only-of-type {\n        vertical-align: middle;\n    }\n\n    .dataframe tbody tr th {\n        vertical-align: top;\n    }\n\n    .dataframe thead th {\n        text-align: right;\n    }\n</style>\n<table border=\"1\" class=\"dataframe\">\n  <thead>\n    <tr style=\"text-align: right;\">\n      <th></th>\n      <th>movieId</th>\n      <th>userId</th>\n      <th>rating</th>\n      <th>timestamp</th>\n      <th>title</th>\n      <th>genres</th>\n    </tr>\n  </thead>\n  <tbody>\n    <tr>\n      <th>0</th>\n      <td>318</td>\n      <td>31896</td>\n      <td>31896</td>\n      <td>31896</td>\n      <td>Shawshank Redemption, The (1994)</td>\n      <td>Crime|Drama</td>\n    </tr>\n  </tbody>\n</table>\n</div>"
     },
     "metadata": {},
     "execution_count": 3
    }
   ],
   "source": [
    "r_5_max = r[r.rating == 5].groupby('movieId').count().sort_values('userId', ascending = False).head(1)\n",
    "r_5_max.merge(m,on='movieId',how='left')\n"
   ]
  },
  {
   "cell_type": "code",
   "execution_count": 4,
   "metadata": {},
   "outputs": [],
   "source": [
    "p = pd.read_csv('C:\\\\netology\\\\10._Основы_pandas\\\\power.csv')"
   ]
  },
  {
   "cell_type": "code",
   "execution_count": 5,
   "metadata": {},
   "outputs": [],
   "source": [
    "f_p = p[(p['country'].str.contains('lith|latv|esto',case=False)) & \\\n",
    "        ((p['category'] == 4) | (p['category'] == 12) | (p['category'] == 21)) & \\\n",
    "         (p['year'].between(2005,2010)) \\\n",
    "         & (p['quantity'] >= 0) \\\n",
    "       ]\n"
   ]
  },
  {
   "cell_type": "code",
   "execution_count": 6,
   "metadata": {},
   "outputs": [
    {
     "output_type": "execute_result",
     "data": {
      "text/plain": "240580.0"
     },
     "metadata": {},
     "execution_count": 6
    }
   ],
   "source": [
    "f_p['quantity'].agg(sum)"
   ]
  },
  {
   "cell_type": "code",
   "execution_count": 7,
   "metadata": {
    "tags": []
   },
   "outputs": [
    {
     "output_type": "execute_result",
     "data": {
      "text/plain": "           Дата  Единиц    Курс\n0    14.11.2017       1  452685\n1    15.11.2017       1  454012\n2    16.11.2017       1  457049\n3    17.11.2017       1  455623\n4    18.11.2017       1  450404\n..          ...     ...     ...\n664  04.08.2020       1  527935\n665  05.08.2020       1  523791\n666  06.08.2020       1  526448\n667  07.08.2020       1  524936\n668  08.08.2020       1  531148\n\n[669 rows x 3 columns]",
      "text/html": "<div>\n<style scoped>\n    .dataframe tbody tr th:only-of-type {\n        vertical-align: middle;\n    }\n\n    .dataframe tbody tr th {\n        vertical-align: top;\n    }\n\n    .dataframe thead th {\n        text-align: right;\n    }\n</style>\n<table border=\"1\" class=\"dataframe\">\n  <thead>\n    <tr style=\"text-align: right;\">\n      <th></th>\n      <th>Дата</th>\n      <th>Единиц</th>\n      <th>Курс</th>\n    </tr>\n  </thead>\n  <tbody>\n    <tr>\n      <th>0</th>\n      <td>14.11.2017</td>\n      <td>1</td>\n      <td>452685</td>\n    </tr>\n    <tr>\n      <th>1</th>\n      <td>15.11.2017</td>\n      <td>1</td>\n      <td>454012</td>\n    </tr>\n    <tr>\n      <th>2</th>\n      <td>16.11.2017</td>\n      <td>1</td>\n      <td>457049</td>\n    </tr>\n    <tr>\n      <th>3</th>\n      <td>17.11.2017</td>\n      <td>1</td>\n      <td>455623</td>\n    </tr>\n    <tr>\n      <th>4</th>\n      <td>18.11.2017</td>\n      <td>1</td>\n      <td>450404</td>\n    </tr>\n    <tr>\n      <th>...</th>\n      <td>...</td>\n      <td>...</td>\n      <td>...</td>\n    </tr>\n    <tr>\n      <th>664</th>\n      <td>04.08.2020</td>\n      <td>1</td>\n      <td>527935</td>\n    </tr>\n    <tr>\n      <th>665</th>\n      <td>05.08.2020</td>\n      <td>1</td>\n      <td>523791</td>\n    </tr>\n    <tr>\n      <th>666</th>\n      <td>06.08.2020</td>\n      <td>1</td>\n      <td>526448</td>\n    </tr>\n    <tr>\n      <th>667</th>\n      <td>07.08.2020</td>\n      <td>1</td>\n      <td>524936</td>\n    </tr>\n    <tr>\n      <th>668</th>\n      <td>08.08.2020</td>\n      <td>1</td>\n      <td>531148</td>\n    </tr>\n  </tbody>\n</table>\n<p>669 rows × 3 columns</p>\n</div>"
     },
     "metadata": {},
     "execution_count": 7
    }
   ],
   "source": [
    "from datetime import datetime, timedelta\n",
    "del_ = timedelta(days=1000)\n",
    "to_ = datetime.now().strftime(\"%d.%m.%Y\")\n",
    "from_ = (datetime.now()-del_).strftime(\"%d.%m.%Y\")\n",
    "pd.read_html(f'http://www.cbr.ru/currency_base/dynamics/?UniDbQuery.Posted=True&UniDbQuery.mode=1&UniDbQuery.date_req1=&UniDbQuery.date_req2=&UniDbQuery.VAL_NM_RQ=R01010&UniDbQuery.From={from_}&UniDbQuery.To={to_}',header=1,)[0]\n"
   ]
  },
  {
   "cell_type": "code",
   "execution_count": 9,
   "metadata": {},
   "outputs": [
    {
     "output_type": "execute_result",
     "data": {
      "text/plain": "          Time        Forecast Temp. Precipitation  \\\n0  00:00–06:00           Fair.   12°        0.1 mm   \n1  06:00–12:00  Partly cloudy.   11°        0.2 mm   \n2  12:00–18:00  Partly cloudy.   16°        0.1 mm   \n3  18:00–00:00  Partly cloudy.   13°          0 mm   \n\n                                          Wind  \n0      Light breeze, 2 m/s from west-northwest  \n1     Light breeze, 3 m/s from north-northeast  \n2  Moderate breeze, 6 m/s from north-northwest  \n3     Gentle breeze, 4 m/s from west-northwest  ",
      "text/html": "<div>\n<style scoped>\n    .dataframe tbody tr th:only-of-type {\n        vertical-align: middle;\n    }\n\n    .dataframe tbody tr th {\n        vertical-align: top;\n    }\n\n    .dataframe thead th {\n        text-align: right;\n    }\n</style>\n<table border=\"1\" class=\"dataframe\">\n  <thead>\n    <tr style=\"text-align: right;\">\n      <th></th>\n      <th>Time</th>\n      <th>Forecast</th>\n      <th>Temp.</th>\n      <th>Precipitation</th>\n      <th>Wind</th>\n    </tr>\n  </thead>\n  <tbody>\n    <tr>\n      <th>0</th>\n      <td>00:00–06:00</td>\n      <td>Fair.</td>\n      <td>12°</td>\n      <td>0.1 mm</td>\n      <td>Light breeze, 2 m/s from west-northwest</td>\n    </tr>\n    <tr>\n      <th>1</th>\n      <td>06:00–12:00</td>\n      <td>Partly cloudy.</td>\n      <td>11°</td>\n      <td>0.2 mm</td>\n      <td>Light breeze, 3 m/s from north-northeast</td>\n    </tr>\n    <tr>\n      <th>2</th>\n      <td>12:00–18:00</td>\n      <td>Partly cloudy.</td>\n      <td>16°</td>\n      <td>0.1 mm</td>\n      <td>Moderate breeze, 6 m/s from north-northwest</td>\n    </tr>\n    <tr>\n      <th>3</th>\n      <td>18:00–00:00</td>\n      <td>Partly cloudy.</td>\n      <td>13°</td>\n      <td>0 mm</td>\n      <td>Gentle breeze, 4 m/s from west-northwest</td>\n    </tr>\n  </tbody>\n</table>\n</div>"
     },
     "metadata": {},
     "execution_count": 9
    }
   ],
   "source": [
    "pd.read_html('https://www.yr.no/place/South_Africa/Western_Cape/Table_View~3360687/')[2]"
   ]
  }
 ],
 "metadata": {
  "kernelspec": {
   "display_name": "Python 3",
   "language": "python",
   "name": "python3"
  },
  "language_info": {
   "codemirror_mode": {
    "name": "ipython",
    "version": 3
   },
   "file_extension": ".py",
   "mimetype": "text/x-python",
   "name": "python",
   "nbconvert_exporter": "python",
   "pygments_lexer": "ipython3",
   "version": "3.7.6"
  }
 },
 "nbformat": 4,
 "nbformat_minor": 4
}