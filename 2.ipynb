{
 "cells": [
  {
   "cell_type": "code",
   "execution_count": 1,
   "metadata": {},
   "outputs": [
    {
     "output_type": "execute_result",
     "data": {
      "text/plain": "datetime.datetime(1977, 8, 18, 0, 0)"
     },
     "metadata": {},
     "execution_count": 1
    }
   ],
   "source": [
    "from datetime import datetime, timedelta\n",
    "The_Moscow_Times = 'Wednesday, October 2, 2002'\n",
    "The_Guardian = 'Friday, 11.10.13'\n",
    "Daily_News = 'Thursday, 18 August 1977'\n",
    "datetime.strptime(The_Moscow_Times, '%A, %B %d, %Y')\n",
    "datetime.strptime(The_Guardian, '%A, %d.%m.%y')\n",
    "datetime.strptime(Daily_News, '%A, %d %B %Y')\n"
   ]
  },
  {
   "cell_type": "code",
   "execution_count": 2,
   "metadata": {
    "tags": []
   },
   "outputs": [
    {
     "output_type": "stream",
     "name": "stdout",
     "text": "2018-04-02 True\n2018-02-29 False\n2018-19-02 False\n"
    }
   ],
   "source": [
    "stream = ['2018-04-02', '2018-02-29', '2018-19-02']\n",
    "def check_date(list_):\n",
    "    for i in list_:\n",
    "        try:\n",
    "            datetime.strptime(i,'%Y-%m-%d')\n",
    "            print(i,True)\n",
    "        except:\n",
    "            print(i,False)\n",
    "check_date(stream)"
   ]
  },
  {
   "cell_type": "code",
   "execution_count": 3,
   "metadata": {
    "tags": []
   },
   "outputs": [
    {
     "output_type": "stream",
     "name": "stdout",
     "text": "[datetime.datetime(2019, 1, 1, 0, 0), datetime.datetime(2019, 1, 2, 0, 0), datetime.datetime(2019, 1, 3, 0, 0), datetime.datetime(2019, 1, 4, 0, 0), datetime.datetime(2019, 1, 5, 0, 0), datetime.datetime(2019, 1, 6, 0, 0), datetime.datetime(2019, 1, 7, 0, 0), datetime.datetime(2019, 1, 8, 0, 0), datetime.datetime(2019, 1, 9, 0, 0), datetime.datetime(2019, 1, 10, 0, 0), datetime.datetime(2019, 1, 11, 0, 0), datetime.datetime(2019, 1, 12, 0, 0), datetime.datetime(2019, 1, 13, 0, 0), datetime.datetime(2019, 1, 14, 0, 0), datetime.datetime(2019, 1, 15, 0, 0), datetime.datetime(2019, 1, 16, 0, 0), datetime.datetime(2019, 1, 17, 0, 0), datetime.datetime(2019, 1, 18, 0, 0), datetime.datetime(2019, 1, 19, 0, 0), datetime.datetime(2019, 1, 20, 0, 0), datetime.datetime(2019, 1, 21, 0, 0), datetime.datetime(2019, 1, 22, 0, 0), datetime.datetime(2019, 1, 23, 0, 0), datetime.datetime(2019, 1, 24, 0, 0), datetime.datetime(2019, 1, 25, 0, 0), datetime.datetime(2019, 1, 26, 0, 0), datetime.datetime(2019, 1, 27, 0, 0), datetime.datetime(2019, 1, 28, 0, 0), datetime.datetime(2019, 1, 29, 0, 0), datetime.datetime(2019, 1, 30, 0, 0), datetime.datetime(2019, 1, 31, 0, 0), datetime.datetime(2019, 2, 1, 0, 0), datetime.datetime(2019, 2, 2, 0, 0), datetime.datetime(2019, 2, 3, 0, 0), datetime.datetime(2019, 2, 4, 0, 0), datetime.datetime(2019, 2, 5, 0, 0), datetime.datetime(2019, 2, 6, 0, 0), datetime.datetime(2019, 2, 7, 0, 0), datetime.datetime(2019, 2, 8, 0, 0), datetime.datetime(2019, 2, 9, 0, 0), datetime.datetime(2019, 2, 10, 0, 0), datetime.datetime(2019, 2, 11, 0, 0), datetime.datetime(2019, 2, 12, 0, 0), datetime.datetime(2019, 2, 13, 0, 0), datetime.datetime(2019, 2, 14, 0, 0), datetime.datetime(2019, 2, 15, 0, 0), datetime.datetime(2019, 2, 16, 0, 0), datetime.datetime(2019, 2, 17, 0, 0), datetime.datetime(2019, 2, 18, 0, 0), datetime.datetime(2019, 2, 19, 0, 0), datetime.datetime(2019, 2, 20, 0, 0), datetime.datetime(2019, 2, 21, 0, 0), datetime.datetime(2019, 2, 22, 0, 0), datetime.datetime(2019, 2, 23, 0, 0), datetime.datetime(2019, 2, 24, 0, 0), datetime.datetime(2019, 2, 25, 0, 0), datetime.datetime(2019, 2, 26, 0, 0), datetime.datetime(2019, 2, 27, 0, 0), datetime.datetime(2019, 2, 28, 0, 0), datetime.datetime(2019, 3, 1, 0, 0), datetime.datetime(2019, 3, 2, 0, 0), datetime.datetime(2019, 3, 3, 0, 0), datetime.datetime(2019, 3, 4, 0, 0), datetime.datetime(2019, 3, 5, 0, 0), datetime.datetime(2019, 3, 6, 0, 0), datetime.datetime(2019, 3, 7, 0, 0), datetime.datetime(2019, 3, 8, 0, 0), datetime.datetime(2019, 3, 9, 0, 0), datetime.datetime(2019, 3, 10, 0, 0), datetime.datetime(2019, 3, 11, 0, 0), datetime.datetime(2019, 3, 12, 0, 0), datetime.datetime(2019, 3, 13, 0, 0), datetime.datetime(2019, 3, 14, 0, 0), datetime.datetime(2019, 3, 15, 0, 0), datetime.datetime(2019, 3, 16, 0, 0), datetime.datetime(2019, 3, 17, 0, 0), datetime.datetime(2019, 3, 18, 0, 0), datetime.datetime(2019, 3, 19, 0, 0), datetime.datetime(2019, 3, 20, 0, 0), datetime.datetime(2019, 3, 21, 0, 0), datetime.datetime(2019, 3, 22, 0, 0), datetime.datetime(2019, 3, 23, 0, 0), datetime.datetime(2019, 3, 24, 0, 0), datetime.datetime(2019, 3, 25, 0, 0), datetime.datetime(2019, 3, 26, 0, 0), datetime.datetime(2019, 3, 27, 0, 0), datetime.datetime(2019, 3, 28, 0, 0), datetime.datetime(2019, 3, 29, 0, 0), datetime.datetime(2019, 3, 30, 0, 0), datetime.datetime(2019, 3, 31, 0, 0), datetime.datetime(2019, 4, 1, 0, 0), datetime.datetime(2019, 4, 2, 0, 0), datetime.datetime(2019, 4, 3, 0, 0), datetime.datetime(2019, 4, 4, 0, 0), datetime.datetime(2019, 4, 5, 0, 0), datetime.datetime(2019, 4, 6, 0, 0), datetime.datetime(2019, 4, 7, 0, 0), datetime.datetime(2019, 4, 8, 0, 0), datetime.datetime(2019, 4, 9, 0, 0), datetime.datetime(2019, 4, 10, 0, 0), datetime.datetime(2019, 4, 11, 0, 0), datetime.datetime(2019, 4, 12, 0, 0), datetime.datetime(2019, 4, 13, 0, 0), datetime.datetime(2019, 4, 14, 0, 0), datetime.datetime(2019, 4, 15, 0, 0), datetime.datetime(2019, 4, 16, 0, 0), datetime.datetime(2019, 4, 17, 0, 0), datetime.datetime(2019, 4, 18, 0, 0), datetime.datetime(2019, 4, 19, 0, 0), datetime.datetime(2019, 4, 20, 0, 0), datetime.datetime(2019, 4, 21, 0, 0), datetime.datetime(2019, 4, 22, 0, 0), datetime.datetime(2019, 4, 23, 0, 0), datetime.datetime(2019, 4, 24, 0, 0), datetime.datetime(2019, 4, 25, 0, 0), datetime.datetime(2019, 4, 26, 0, 0), datetime.datetime(2019, 4, 27, 0, 0), datetime.datetime(2019, 4, 28, 0, 0), datetime.datetime(2019, 4, 29, 0, 0), datetime.datetime(2019, 4, 30, 0, 0), datetime.datetime(2019, 5, 1, 0, 0), datetime.datetime(2019, 5, 2, 0, 0), datetime.datetime(2019, 5, 3, 0, 0), datetime.datetime(2019, 5, 4, 0, 0), datetime.datetime(2019, 5, 5, 0, 0), datetime.datetime(2019, 5, 6, 0, 0), datetime.datetime(2019, 5, 7, 0, 0), datetime.datetime(2019, 5, 8, 0, 0), datetime.datetime(2019, 5, 9, 0, 0), datetime.datetime(2019, 5, 10, 0, 0), datetime.datetime(2019, 5, 11, 0, 0), datetime.datetime(2019, 5, 12, 0, 0), datetime.datetime(2019, 5, 13, 0, 0), datetime.datetime(2019, 5, 14, 0, 0), datetime.datetime(2019, 5, 15, 0, 0), datetime.datetime(2019, 5, 16, 0, 0), datetime.datetime(2019, 5, 17, 0, 0), datetime.datetime(2019, 5, 18, 0, 0), datetime.datetime(2019, 5, 19, 0, 0), datetime.datetime(2019, 5, 20, 0, 0), datetime.datetime(2019, 5, 21, 0, 0), datetime.datetime(2019, 5, 22, 0, 0), datetime.datetime(2019, 5, 23, 0, 0), datetime.datetime(2019, 5, 24, 0, 0), datetime.datetime(2019, 5, 25, 0, 0), datetime.datetime(2019, 5, 26, 0, 0), datetime.datetime(2019, 5, 27, 0, 0), datetime.datetime(2019, 5, 28, 0, 0), datetime.datetime(2019, 5, 29, 0, 0), datetime.datetime(2019, 5, 30, 0, 0), datetime.datetime(2019, 5, 31, 0, 0), datetime.datetime(2019, 6, 1, 0, 0), datetime.datetime(2019, 6, 2, 0, 0), datetime.datetime(2019, 6, 3, 0, 0), datetime.datetime(2019, 6, 4, 0, 0), datetime.datetime(2019, 6, 5, 0, 0), datetime.datetime(2019, 6, 6, 0, 0), datetime.datetime(2019, 6, 7, 0, 0), datetime.datetime(2019, 6, 8, 0, 0), datetime.datetime(2019, 6, 9, 0, 0), datetime.datetime(2019, 6, 10, 0, 0), datetime.datetime(2019, 6, 11, 0, 0), datetime.datetime(2019, 6, 12, 0, 0), datetime.datetime(2019, 6, 13, 0, 0), datetime.datetime(2019, 6, 14, 0, 0), datetime.datetime(2019, 6, 15, 0, 0), datetime.datetime(2019, 6, 16, 0, 0), datetime.datetime(2019, 6, 17, 0, 0), datetime.datetime(2019, 6, 18, 0, 0), datetime.datetime(2019, 6, 19, 0, 0), datetime.datetime(2019, 6, 20, 0, 0), datetime.datetime(2019, 6, 21, 0, 0), datetime.datetime(2019, 6, 22, 0, 0), datetime.datetime(2019, 6, 23, 0, 0), datetime.datetime(2019, 6, 24, 0, 0), datetime.datetime(2019, 6, 25, 0, 0), datetime.datetime(2019, 6, 26, 0, 0), datetime.datetime(2019, 6, 27, 0, 0), datetime.datetime(2019, 6, 28, 0, 0), datetime.datetime(2019, 6, 29, 0, 0), datetime.datetime(2019, 6, 30, 0, 0), datetime.datetime(2019, 7, 1, 0, 0), datetime.datetime(2019, 7, 2, 0, 0), datetime.datetime(2019, 7, 3, 0, 0), datetime.datetime(2019, 7, 4, 0, 0), datetime.datetime(2019, 7, 5, 0, 0), datetime.datetime(2019, 7, 6, 0, 0), datetime.datetime(2019, 7, 7, 0, 0), datetime.datetime(2019, 7, 8, 0, 0), datetime.datetime(2019, 7, 9, 0, 0), datetime.datetime(2019, 7, 10, 0, 0), datetime.datetime(2019, 7, 11, 0, 0), datetime.datetime(2019, 7, 12, 0, 0), datetime.datetime(2019, 7, 13, 0, 0), datetime.datetime(2019, 7, 14, 0, 0), datetime.datetime(2019, 7, 15, 0, 0), datetime.datetime(2019, 7, 16, 0, 0), datetime.datetime(2019, 7, 17, 0, 0), datetime.datetime(2019, 7, 18, 0, 0), datetime.datetime(2019, 7, 19, 0, 0), datetime.datetime(2019, 7, 20, 0, 0), datetime.datetime(2019, 7, 21, 0, 0), datetime.datetime(2019, 7, 22, 0, 0), datetime.datetime(2019, 7, 23, 0, 0), datetime.datetime(2019, 7, 24, 0, 0), datetime.datetime(2019, 7, 25, 0, 0), datetime.datetime(2019, 7, 26, 0, 0), datetime.datetime(2019, 7, 27, 0, 0), datetime.datetime(2019, 7, 28, 0, 0), datetime.datetime(2019, 7, 29, 0, 0), datetime.datetime(2019, 7, 30, 0, 0), datetime.datetime(2019, 7, 31, 0, 0), datetime.datetime(2019, 8, 1, 0, 0), datetime.datetime(2019, 8, 2, 0, 0), datetime.datetime(2019, 8, 3, 0, 0), datetime.datetime(2019, 8, 4, 0, 0), datetime.datetime(2019, 8, 5, 0, 0), datetime.datetime(2019, 8, 6, 0, 0), datetime.datetime(2019, 8, 7, 0, 0), datetime.datetime(2019, 8, 8, 0, 0), datetime.datetime(2019, 8, 9, 0, 0), datetime.datetime(2019, 8, 10, 0, 0), datetime.datetime(2019, 8, 11, 0, 0), datetime.datetime(2019, 8, 12, 0, 0), datetime.datetime(2019, 8, 13, 0, 0), datetime.datetime(2019, 8, 14, 0, 0), datetime.datetime(2019, 8, 15, 0, 0), datetime.datetime(2019, 8, 16, 0, 0), datetime.datetime(2019, 8, 17, 0, 0), datetime.datetime(2019, 8, 18, 0, 0), datetime.datetime(2019, 8, 19, 0, 0), datetime.datetime(2019, 8, 20, 0, 0), datetime.datetime(2019, 8, 21, 0, 0), datetime.datetime(2019, 8, 22, 0, 0), datetime.datetime(2019, 8, 23, 0, 0), datetime.datetime(2019, 8, 24, 0, 0), datetime.datetime(2019, 8, 25, 0, 0), datetime.datetime(2019, 8, 26, 0, 0), datetime.datetime(2019, 8, 27, 0, 0), datetime.datetime(2019, 8, 28, 0, 0), datetime.datetime(2019, 8, 29, 0, 0), datetime.datetime(2019, 8, 30, 0, 0), datetime.datetime(2019, 8, 31, 0, 0), datetime.datetime(2019, 9, 1, 0, 0), datetime.datetime(2019, 9, 2, 0, 0), datetime.datetime(2019, 9, 3, 0, 0), datetime.datetime(2019, 9, 4, 0, 0), datetime.datetime(2019, 9, 5, 0, 0), datetime.datetime(2019, 9, 6, 0, 0), datetime.datetime(2019, 9, 7, 0, 0), datetime.datetime(2019, 9, 8, 0, 0), datetime.datetime(2019, 9, 9, 0, 0), datetime.datetime(2019, 9, 10, 0, 0), datetime.datetime(2019, 9, 11, 0, 0), datetime.datetime(2019, 9, 12, 0, 0), datetime.datetime(2019, 9, 13, 0, 0), datetime.datetime(2019, 9, 14, 0, 0), datetime.datetime(2019, 9, 15, 0, 0), datetime.datetime(2019, 9, 16, 0, 0), datetime.datetime(2019, 9, 17, 0, 0), datetime.datetime(2019, 9, 18, 0, 0), datetime.datetime(2019, 9, 19, 0, 0), datetime.datetime(2019, 9, 20, 0, 0), datetime.datetime(2019, 9, 21, 0, 0), datetime.datetime(2019, 9, 22, 0, 0), datetime.datetime(2019, 9, 23, 0, 0), datetime.datetime(2019, 9, 24, 0, 0), datetime.datetime(2019, 9, 25, 0, 0), datetime.datetime(2019, 9, 26, 0, 0), datetime.datetime(2019, 9, 27, 0, 0), datetime.datetime(2019, 9, 28, 0, 0), datetime.datetime(2019, 9, 29, 0, 0), datetime.datetime(2019, 9, 30, 0, 0), datetime.datetime(2019, 10, 1, 0, 0), datetime.datetime(2019, 10, 2, 0, 0), datetime.datetime(2019, 10, 3, 0, 0), datetime.datetime(2019, 10, 4, 0, 0), datetime.datetime(2019, 10, 5, 0, 0), datetime.datetime(2019, 10, 6, 0, 0), datetime.datetime(2019, 10, 7, 0, 0), datetime.datetime(2019, 10, 8, 0, 0), datetime.datetime(2019, 10, 9, 0, 0), datetime.datetime(2019, 10, 10, 0, 0), datetime.datetime(2019, 10, 11, 0, 0), datetime.datetime(2019, 10, 12, 0, 0), datetime.datetime(2019, 10, 13, 0, 0), datetime.datetime(2019, 10, 14, 0, 0), datetime.datetime(2019, 10, 15, 0, 0), datetime.datetime(2019, 10, 16, 0, 0), datetime.datetime(2019, 10, 17, 0, 0), datetime.datetime(2019, 10, 18, 0, 0), datetime.datetime(2019, 10, 19, 0, 0), datetime.datetime(2019, 10, 20, 0, 0), datetime.datetime(2019, 10, 21, 0, 0), datetime.datetime(2019, 10, 22, 0, 0), datetime.datetime(2019, 10, 23, 0, 0), datetime.datetime(2019, 10, 24, 0, 0), datetime.datetime(2019, 10, 25, 0, 0), datetime.datetime(2019, 10, 26, 0, 0), datetime.datetime(2019, 10, 27, 0, 0), datetime.datetime(2019, 10, 28, 0, 0), datetime.datetime(2019, 10, 29, 0, 0), datetime.datetime(2019, 10, 30, 0, 0), datetime.datetime(2019, 10, 31, 0, 0), datetime.datetime(2019, 11, 1, 0, 0), datetime.datetime(2019, 11, 2, 0, 0), datetime.datetime(2019, 11, 3, 0, 0), datetime.datetime(2019, 11, 4, 0, 0), datetime.datetime(2019, 11, 5, 0, 0), datetime.datetime(2019, 11, 6, 0, 0), datetime.datetime(2019, 11, 7, 0, 0), datetime.datetime(2019, 11, 8, 0, 0), datetime.datetime(2019, 11, 9, 0, 0), datetime.datetime(2019, 11, 10, 0, 0), datetime.datetime(2019, 11, 11, 0, 0), datetime.datetime(2019, 11, 12, 0, 0), datetime.datetime(2019, 11, 13, 0, 0), datetime.datetime(2019, 11, 14, 0, 0), datetime.datetime(2019, 11, 15, 0, 0), datetime.datetime(2019, 11, 16, 0, 0), datetime.datetime(2019, 11, 17, 0, 0), datetime.datetime(2019, 11, 18, 0, 0), datetime.datetime(2019, 11, 19, 0, 0), datetime.datetime(2019, 11, 20, 0, 0), datetime.datetime(2019, 11, 21, 0, 0), datetime.datetime(2019, 11, 22, 0, 0), datetime.datetime(2019, 11, 23, 0, 0), datetime.datetime(2019, 11, 24, 0, 0), datetime.datetime(2019, 11, 25, 0, 0), datetime.datetime(2019, 11, 26, 0, 0), datetime.datetime(2019, 11, 27, 0, 0), datetime.datetime(2019, 11, 28, 0, 0), datetime.datetime(2019, 11, 29, 0, 0), datetime.datetime(2019, 11, 30, 0, 0), datetime.datetime(2019, 12, 1, 0, 0), datetime.datetime(2019, 12, 2, 0, 0), datetime.datetime(2019, 12, 3, 0, 0), datetime.datetime(2019, 12, 4, 0, 0), datetime.datetime(2019, 12, 5, 0, 0), datetime.datetime(2019, 12, 6, 0, 0), datetime.datetime(2019, 12, 7, 0, 0), datetime.datetime(2019, 12, 8, 0, 0), datetime.datetime(2019, 12, 9, 0, 0), datetime.datetime(2019, 12, 10, 0, 0), datetime.datetime(2019, 12, 11, 0, 0), datetime.datetime(2019, 12, 12, 0, 0), datetime.datetime(2019, 12, 13, 0, 0), datetime.datetime(2019, 12, 14, 0, 0), datetime.datetime(2019, 12, 15, 0, 0), datetime.datetime(2019, 12, 16, 0, 0), datetime.datetime(2019, 12, 17, 0, 0), datetime.datetime(2019, 12, 18, 0, 0), datetime.datetime(2019, 12, 19, 0, 0), datetime.datetime(2019, 12, 20, 0, 0), datetime.datetime(2019, 12, 21, 0, 0), datetime.datetime(2019, 12, 22, 0, 0), datetime.datetime(2019, 12, 23, 0, 0), datetime.datetime(2019, 12, 24, 0, 0), datetime.datetime(2019, 12, 25, 0, 0), datetime.datetime(2019, 12, 26, 0, 0), datetime.datetime(2019, 12, 27, 0, 0), datetime.datetime(2019, 12, 28, 0, 0), datetime.datetime(2019, 12, 29, 0, 0), datetime.datetime(2019, 12, 30, 0, 0), datetime.datetime(2019, 12, 31, 0, 0), datetime.datetime(2020, 1, 1, 0, 0), datetime.datetime(2020, 1, 2, 0, 0), datetime.datetime(2020, 1, 3, 0, 0), datetime.datetime(2020, 1, 4, 0, 0), datetime.datetime(2020, 1, 5, 0, 0)]\n"
    }
   ],
   "source": [
    "from datetime import datetime, timedelta\n",
    "\n",
    "def create_dates():\n",
    "    date_range = []\n",
    "    try:\n",
    "        start_date = datetime.strptime('2019-01-01','%Y-%m-%d')\n",
    "        end_date = datetime.strptime('2020-01-05','%Y-%m-%d')\n",
    "        diff = (end_date - start_date).days\n",
    "        for d in range(0, diff+1):\n",
    "            date_range.append(start_date + timedelta(days=d))\n",
    "        print(date_range)\n",
    "    except:\n",
    "        print(date_range)\n",
    "create_dates()"
   ]
  }
 ],
 "metadata": {
  "kernelspec": {
   "display_name": "Python 3",
   "language": "python",
   "name": "python3"
  },
  "language_info": {
   "codemirror_mode": {
    "name": "ipython",
    "version": 3
   },
   "file_extension": ".py",
   "mimetype": "text/x-python",
   "name": "python",
   "nbconvert_exporter": "python",
   "pygments_lexer": "ipython3",
   "version": "3.7.6-final"
  }
 },
 "nbformat": 4,
 "nbformat_minor": 4
}