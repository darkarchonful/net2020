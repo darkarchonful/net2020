{
 "metadata": {
  "language_info": {
   "codemirror_mode": {
    "name": "ipython",
    "version": 3
   },
   "file_extension": ".py",
   "mimetype": "text/x-python",
   "name": "python",
   "nbconvert_exporter": "python",
   "pygments_lexer": "ipython3",
   "version": "3.7.6-final"
  },
  "orig_nbformat": 2,
  "kernelspec": {
   "name": "python_defaultSpec_1598110206754",
   "display_name": "Python 3.7.6 64-bit ('base': conda)"
  }
 },
 "nbformat": 4,
 "nbformat_minor": 2,
 "cells": [
  {
   "cell_type": "code",
   "execution_count": 188,
   "metadata": {},
   "outputs": [],
   "source": [
    "import pandas as pd"
   ]
  },
  {
   "cell_type": "markdown",
   "metadata": {},
   "source": [
    "## Задание 1"
   ]
  },
  {
   "cell_type": "code",
   "execution_count": 189,
   "metadata": {},
   "outputs": [],
   "source": [
    "df = pd.read_csv('C:\\\\netology\\\\net2020\\\\ml-latest-small\\\\ratings.csv',sep = ',')"
   ]
  },
  {
   "cell_type": "code",
   "execution_count": 190,
   "metadata": {},
   "outputs": [],
   "source": [
    "def class_(param):\n",
    "    if param <= 2:\n",
    "        return \"low\"\n",
    "    elif param <= 4:\n",
    "        return \"medium\"\n",
    "    elif param > 4:\n",
    "        return \"high\""
   ]
  },
  {
   "cell_type": "code",
   "execution_count": 191,
   "metadata": {},
   "outputs": [
    {
     "output_type": "execute_result",
     "data": {
      "text/plain": "        userId  movieId  rating   timestamp   class\n0            1       31     2.5  1260759144  medium\n1            1     1029     3.0  1260759179  medium\n2            1     1061     3.0  1260759182  medium\n3            1     1129     2.0  1260759185     low\n4            1     1172     4.0  1260759205  medium\n...        ...      ...     ...         ...     ...\n99999      671     6268     2.5  1065579370  medium\n100000     671     6269     4.0  1065149201  medium\n100001     671     6365     4.0  1070940363  medium\n100002     671     6385     2.5  1070979663  medium\n100003     671     6565     3.5  1074784724  medium\n\n[100004 rows x 5 columns]",
      "text/html": "<div>\n<style scoped>\n    .dataframe tbody tr th:only-of-type {\n        vertical-align: middle;\n    }\n\n    .dataframe tbody tr th {\n        vertical-align: top;\n    }\n\n    .dataframe thead th {\n        text-align: right;\n    }\n</style>\n<table border=\"1\" class=\"dataframe\">\n  <thead>\n    <tr style=\"text-align: right;\">\n      <th></th>\n      <th>userId</th>\n      <th>movieId</th>\n      <th>rating</th>\n      <th>timestamp</th>\n      <th>class</th>\n    </tr>\n  </thead>\n  <tbody>\n    <tr>\n      <th>0</th>\n      <td>1</td>\n      <td>31</td>\n      <td>2.5</td>\n      <td>1260759144</td>\n      <td>medium</td>\n    </tr>\n    <tr>\n      <th>1</th>\n      <td>1</td>\n      <td>1029</td>\n      <td>3.0</td>\n      <td>1260759179</td>\n      <td>medium</td>\n    </tr>\n    <tr>\n      <th>2</th>\n      <td>1</td>\n      <td>1061</td>\n      <td>3.0</td>\n      <td>1260759182</td>\n      <td>medium</td>\n    </tr>\n    <tr>\n      <th>3</th>\n      <td>1</td>\n      <td>1129</td>\n      <td>2.0</td>\n      <td>1260759185</td>\n      <td>low</td>\n    </tr>\n    <tr>\n      <th>4</th>\n      <td>1</td>\n      <td>1172</td>\n      <td>4.0</td>\n      <td>1260759205</td>\n      <td>medium</td>\n    </tr>\n    <tr>\n      <th>...</th>\n      <td>...</td>\n      <td>...</td>\n      <td>...</td>\n      <td>...</td>\n      <td>...</td>\n    </tr>\n    <tr>\n      <th>99999</th>\n      <td>671</td>\n      <td>6268</td>\n      <td>2.5</td>\n      <td>1065579370</td>\n      <td>medium</td>\n    </tr>\n    <tr>\n      <th>100000</th>\n      <td>671</td>\n      <td>6269</td>\n      <td>4.0</td>\n      <td>1065149201</td>\n      <td>medium</td>\n    </tr>\n    <tr>\n      <th>100001</th>\n      <td>671</td>\n      <td>6365</td>\n      <td>4.0</td>\n      <td>1070940363</td>\n      <td>medium</td>\n    </tr>\n    <tr>\n      <th>100002</th>\n      <td>671</td>\n      <td>6385</td>\n      <td>2.5</td>\n      <td>1070979663</td>\n      <td>medium</td>\n    </tr>\n    <tr>\n      <th>100003</th>\n      <td>671</td>\n      <td>6565</td>\n      <td>3.5</td>\n      <td>1074784724</td>\n      <td>medium</td>\n    </tr>\n  </tbody>\n</table>\n<p>100004 rows × 5 columns</p>\n</div>"
     },
     "metadata": {},
     "execution_count": 191
    }
   ],
   "source": [
    "df['class'] = df['rating'].apply(class_)\n",
    "df"
   ]
  },
  {
   "cell_type": "markdown",
   "metadata": {},
   "source": [
    "## Задание 2"
   ]
  },
  {
   "cell_type": "code",
   "execution_count": 193,
   "metadata": {
    "tags": []
   },
   "outputs": [],
   "source": [
    "df = pd.read_csv('C:\\\\netology\\\\net2020\\\\keywords.csv',sep = ',')\n"
   ]
  },
  {
   "cell_type": "code",
   "execution_count": 194,
   "metadata": {
    "tags": []
   },
   "outputs": [
    {
     "output_type": "execute_result",
     "data": {
      "text/plain": "                       keyword     shows     region\n0                           вк  64292779  Undefined\n1                одноклассники  63810309  Undefined\n2                        порно  41747114  Undefined\n3                         ютуб  39995567  Undefined\n4                    вконтакте  21014195  Undefined\n...                        ...       ...        ...\n99995   эльдорадо старый оскол      3705  Undefined\n99996      frigate для firefox      3630  Undefined\n99997                   укрсиб      3630  Undefined\n99998  погода в ялте на неделю      3688  Undefined\n99999                     ггму      3630  Undefined\n\n[100000 rows x 3 columns]",
      "text/html": "<div>\n<style scoped>\n    .dataframe tbody tr th:only-of-type {\n        vertical-align: middle;\n    }\n\n    .dataframe tbody tr th {\n        vertical-align: top;\n    }\n\n    .dataframe thead th {\n        text-align: right;\n    }\n</style>\n<table border=\"1\" class=\"dataframe\">\n  <thead>\n    <tr style=\"text-align: right;\">\n      <th></th>\n      <th>keyword</th>\n      <th>shows</th>\n      <th>region</th>\n    </tr>\n  </thead>\n  <tbody>\n    <tr>\n      <th>0</th>\n      <td>вк</td>\n      <td>64292779</td>\n      <td>Undefined</td>\n    </tr>\n    <tr>\n      <th>1</th>\n      <td>одноклассники</td>\n      <td>63810309</td>\n      <td>Undefined</td>\n    </tr>\n    <tr>\n      <th>2</th>\n      <td>порно</td>\n      <td>41747114</td>\n      <td>Undefined</td>\n    </tr>\n    <tr>\n      <th>3</th>\n      <td>ютуб</td>\n      <td>39995567</td>\n      <td>Undefined</td>\n    </tr>\n    <tr>\n      <th>4</th>\n      <td>вконтакте</td>\n      <td>21014195</td>\n      <td>Undefined</td>\n    </tr>\n    <tr>\n      <th>...</th>\n      <td>...</td>\n      <td>...</td>\n      <td>...</td>\n    </tr>\n    <tr>\n      <th>99995</th>\n      <td>эльдорадо старый оскол</td>\n      <td>3705</td>\n      <td>Undefined</td>\n    </tr>\n    <tr>\n      <th>99996</th>\n      <td>frigate для firefox</td>\n      <td>3630</td>\n      <td>Undefined</td>\n    </tr>\n    <tr>\n      <th>99997</th>\n      <td>укрсиб</td>\n      <td>3630</td>\n      <td>Undefined</td>\n    </tr>\n    <tr>\n      <th>99998</th>\n      <td>погода в ялте на неделю</td>\n      <td>3688</td>\n      <td>Undefined</td>\n    </tr>\n    <tr>\n      <th>99999</th>\n      <td>ггму</td>\n      <td>3630</td>\n      <td>Undefined</td>\n    </tr>\n  </tbody>\n</table>\n<p>100000 rows × 3 columns</p>\n</div>"
     },
     "metadata": {},
     "execution_count": 194
    }
   ],
   "source": [
    "geo_data = {\n",
    "    'Центр': ['москва', 'тула', 'ярославль'],\n",
    "    'Северо-Запад': ['петербург', 'псков', 'мурманск'],\n",
    "    'Дальний Восток': ['владивосток', 'сахалин', 'хабаровск', 'старый оскол']\n",
    "}\n",
    "\n",
    "def geo_class(x):  \n",
    "  for k in geo_data:\n",
    "      for i in x:\n",
    "        if i in geo_data[k]:\n",
    "            return k\n",
    "        else:\n",
    "            return 'Undefined'\n",
    "df['region'] = df['keyword'].apply(lambda word: word.split(' ')).apply(geo_class)\n",
    "df\n",
    "# df[df['region']!='Undefined']['region'].value_counts()"
   ]
  },
  {
   "cell_type": "markdown",
   "metadata": {},
   "source": [
    "## Задание 3"
   ]
  },
  {
   "cell_type": "code",
   "execution_count": 201,
   "metadata": {},
   "outputs": [],
   "source": [
    "import pandas as pd\n",
    "r = pd.read_csv('C:\\\\netology\\\\net2020\\\\ml-latest-small\\\\ratings.csv')\n",
    "m = pd.read_csv('C:\\\\netology\\\\net2020\\\\ml-latest-small\\\\movies.csv')"
   ]
  },
  {
   "cell_type": "code",
   "execution_count": 202,
   "metadata": {},
   "outputs": [],
   "source": [
    "ds = r.merge(m,on='movieId',how='left')\n",
    "years = []\n",
    "for x in range(1950,2011):\n",
    "    years.append(x) \n"
   ]
  },
  {
   "cell_type": "code",
   "execution_count": 203,
   "metadata": {},
   "outputs": [],
   "source": [
    "ds['title_split'] = ds['title'].apply(lambda word: word.replace(\")\",\"\").replace(\"(\",\"\").split(' '))\n"
   ]
  },
  {
   "cell_type": "code",
   "execution_count": 204,
   "metadata": {},
   "outputs": [],
   "source": [
    "def find_year(row):\n",
    "    for year_ in years:\n",
    "        if str(year_) in row:\n",
    "            return year_\n",
    "    return 1900"
   ]
  },
  {
   "cell_type": "code",
   "execution_count": 205,
   "metadata": {},
   "outputs": [],
   "source": [
    "ds['year'] = ds['title_split'].apply(find_year)"
   ]
  },
  {
   "cell_type": "code",
   "execution_count": 206,
   "metadata": {},
   "outputs": [
    {
     "output_type": "execute_result",
     "data": {
      "text/plain": "    year      mean\n8   1957  4.014241\n23  1972  4.011136\n3   1952  4.000000\n5   1954  3.994220\n2   1951  3.983539\n..   ...       ...\n56  2005  3.448434\n54  2003  3.444777\n47  1996  3.426600\n48  1997  3.415764\n51  2000  3.356104\n\n[62 rows x 2 columns]",
      "text/html": "<div>\n<style scoped>\n    .dataframe tbody tr th:only-of-type {\n        vertical-align: middle;\n    }\n\n    .dataframe tbody tr th {\n        vertical-align: top;\n    }\n\n    .dataframe thead th {\n        text-align: right;\n    }\n</style>\n<table border=\"1\" class=\"dataframe\">\n  <thead>\n    <tr style=\"text-align: right;\">\n      <th></th>\n      <th>year</th>\n      <th>mean</th>\n    </tr>\n  </thead>\n  <tbody>\n    <tr>\n      <th>8</th>\n      <td>1957</td>\n      <td>4.014241</td>\n    </tr>\n    <tr>\n      <th>23</th>\n      <td>1972</td>\n      <td>4.011136</td>\n    </tr>\n    <tr>\n      <th>3</th>\n      <td>1952</td>\n      <td>4.000000</td>\n    </tr>\n    <tr>\n      <th>5</th>\n      <td>1954</td>\n      <td>3.994220</td>\n    </tr>\n    <tr>\n      <th>2</th>\n      <td>1951</td>\n      <td>3.983539</td>\n    </tr>\n    <tr>\n      <th>...</th>\n      <td>...</td>\n      <td>...</td>\n    </tr>\n    <tr>\n      <th>56</th>\n      <td>2005</td>\n      <td>3.448434</td>\n    </tr>\n    <tr>\n      <th>54</th>\n      <td>2003</td>\n      <td>3.444777</td>\n    </tr>\n    <tr>\n      <th>47</th>\n      <td>1996</td>\n      <td>3.426600</td>\n    </tr>\n    <tr>\n      <th>48</th>\n      <td>1997</td>\n      <td>3.415764</td>\n    </tr>\n    <tr>\n      <th>51</th>\n      <td>2000</td>\n      <td>3.356104</td>\n    </tr>\n  </tbody>\n</table>\n<p>62 rows × 2 columns</p>\n</div>"
     },
     "metadata": {},
     "execution_count": 206
    }
   ],
   "source": [
    "results = ds.groupby('year').agg(['mean'])['rating'].reset_index().sort_values('mean', ascending=False)\n",
    "results"
   ]
  }
 ]
}