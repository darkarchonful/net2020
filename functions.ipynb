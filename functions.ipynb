{
 "cells": [
  {
   "cell_type": "markdown",
   "metadata": {},
   "source": [
    "Необходимо реализовать пользовательские команды (внимание! это не название функций, которые должны быть выразительными, а команды, которые вводит пользователь, чтобы получить необходимый результат):\n",
    "\n",
    "p – people – команда, которая спросит номер документа и выведет имя человека, которому он принадлежит;\n",
    "\n",
    "s – shelf – команда, которая спросит номер документа и выведет номер полки, на которой он находится Правильно обработайте ситуации, когда пользователь будет вводить несуществующий документ.\n",
    "\n",
    "l – list – команда, которая выведет список всех документов в формате\n",
    "\n",
    "passport \"2207 876234\" \"Василий Гупкин\"\n",
    "\n",
    "as – add shelf – команда, которая спросит номер новой полки и добавит ее в перечень. Предусмотрите случай, когда пользователь добавляет полку, которая уже существует.\n",
    "\n",
    "d – delete – команда, которая спросит номер документа и удалит его из каталога и из перечня полок. Предусмотрите сценарий, когда пользователь вводит несуществующий документ;\n",
    "\n",
    "m – move – команда, которая спросит номер документа и целевую полку и переместит его с текущей полки на целевую. Корректно обработайте кейсы, когда пользователь пытается переместить несуществующий документ или переместить документ на несуществующую полку;\n",
    "\n",
    "a – add – команда, которая добавит новый документ в каталог и в перечень полок, спросив его номер, тип, имя владельца и номер полки, на котором он будет храниться. Корректно обработайте ситуацию, когда пользователь будет пытаться добавить документ на несуществующую полку."
   ]
  },
  {
   "cell_type": "code",
   "execution_count": 48,
   "metadata": {},
   "outputs": [],
   "source": [
    "documents = [\n",
    "    {'type': 'passport', 'number': '2207 876234', 'name': 'Василий Гупкин'},\n",
    "    {'type': 'invoice', 'number': '11-2', 'name': 'Геннадий Покемонов'},\n",
    "    {'type': 'insurance', 'number': '10006', 'name': 'Аристарх Павлов'}\n",
    "]\n",
    "directories = {\n",
    "    '1': ['2207 876234', '11-2'],\n",
    "    '2': ['10006'],\n",
    "    '3': []\n",
    "}"
   ]
  },
  {
   "cell_type": "code",
   "execution_count": 49,
   "metadata": {},
   "outputs": [],
   "source": [
    "def people_by_num(list_):\n",
    "    num = input('Номер документа?')\n",
    "    for k in list_:\n",
    "        if num == k['number']:\n",
    "            print(k['name'])\n",
    "            return\n",
    "    print('нет документа')\n",
    "\n",
    "def shelf_by_num(dict_):\n",
    "    num = input('Номер документа?')\n",
    "    for k,v in dict_.items():\n",
    "        if num in v:\n",
    "            print(f'Полка {k}')\n",
    "            return\n",
    "    print('нет документа') \n",
    "        \n",
    "def list_docs(list_):\n",
    "    for k in list_:\n",
    "        print(f'{k[\"type\"]} \"{k[\"number\"]}\" \"{k[\"name\"]}\"')\n",
    "\n",
    "def add_new_shelf(dict_):\n",
    "    new_shelf = input('Номер новой полки?')\n",
    "    if new_shelf in dict_:\n",
    "        print('Полка уже существует')\n",
    "        return \n",
    "    dict_[new_shelf] = []\n",
    "    print(f'Полка {new_shelf} добавлена')\n",
    "    \n",
    "def del_doc_by_num(dict_,list_):\n",
    "    num = input('Номер документа?')\n",
    "    for k in list_:\n",
    "        if num == k['number']:\n",
    "            list_.remove(k)\n",
    "            for k, v in dict_.items():\n",
    "                if num in v:\n",
    "                    print(f'Удален док-т {num}')\n",
    "                    dict_[k].remove(num)\n",
    "                    return\n",
    "    print('нет документа')\n",
    "\n",
    "def move_doc_by_num(dict_,list_):\n",
    "    num = input('Номер док-та? ')\n",
    "    num_shelf = input('Куда переместить? ')\n",
    "    if dict_.get(num_shelf) is None:\n",
    "        print('нет полки')\n",
    "        return\n",
    "    for k, v in dict_.items():\n",
    "        if num in v:\n",
    "            dict_[k].remove(num)\n",
    "            dict_[num_shelf].append(num)\n",
    "            return\n",
    "    print('нет документа')\n",
    "    \n",
    "def add_doc_by_num(dict_,list_): \n",
    "    num_shelf = input('Куда положить? ')\n",
    "    if dict_.get(num_shelf) is None:\n",
    "        print('нет полки')\n",
    "        return \n",
    "    num = input('Номер док-та? ')\n",
    "    type_ = input('Тип? ')\n",
    "    name = input('Имя? ')\n",
    "    new_dict = {'type': type_, 'number': num, 'name': name}\n",
    "    dict_[num_shelf].append(num)\n",
    "    list_.append(new_dict)\n"
   ]
  },
  {
   "cell_type": "code",
   "execution_count": 50,
   "metadata": {},
   "outputs": [
    {
     "name": "stdout",
     "output_type": "stream",
     "text": [
      "Что делать? \n",
      "end\n"
     ]
    }
   ],
   "source": [
    "def main(dict_=directories,list_=documents):\n",
    "    while True:\n",
    "        command = input('Что делать? ')\n",
    "        if command == 'p':\n",
    "            people_by_num(list_)\n",
    "        elif command == 'l':\n",
    "            list_docs(list_)\n",
    "        elif command == 's':\n",
    "            shelf_by_num(dict_)\n",
    "        elif command == 'as':\n",
    "            add_new_shelf(dict_)\n",
    "        elif command == 'd':\n",
    "            del_doc_by_num(dict_,list_)\n",
    "        elif command == 'm':\n",
    "            move_doc_by_num(dict_,list_)\n",
    "        elif command == 'a':\n",
    "            add_doc_by_num(dict_,list_)\n",
    "        elif command == '' or command =='q': \n",
    "            print('end')\n",
    "            break \n",
    "        else:\n",
    "            print('Комманда не существует')\n",
    "        \n",
    "main()"
   ]
  }
 ],
 "metadata": {
  "kernelspec": {
   "display_name": "Python 3",
   "language": "python",
   "name": "python3"
  },
  "language_info": {
   "codemirror_mode": {
    "name": "ipython",
    "version": 3
   },
   "file_extension": ".py",
   "mimetype": "text/x-python",
   "name": "python",
   "nbconvert_exporter": "python",
   "pygments_lexer": "ipython3",
   "version": "3.7.6"
  }
 },
 "nbformat": 4,
 "nbformat_minor": 4
}
